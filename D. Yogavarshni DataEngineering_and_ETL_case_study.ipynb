{
 "cells": [
  {
   "cell_type": "code",
   "execution_count": 1,
   "metadata": {},
   "outputs": [],
   "source": [
    "import findspark\n",
    "findspark.init('/usr/local/spark')\n",
    "\n",
    "import pyspark\n",
    "from pyspark.sql import SparkSession"
   ]
  },
  {
   "cell_type": "code",
   "execution_count": 2,
   "metadata": {},
   "outputs": [
    {
     "data": {
      "text/html": [
       "\n",
       "            <div>\n",
       "                <p><b>SparkSession - in-memory</b></p>\n",
       "                \n",
       "        <div>\n",
       "            <p><b>SparkContext</b></p>\n",
       "\n",
       "            <p><a href=\"http://10.0.2.15:4040\">Spark UI</a></p>\n",
       "\n",
       "            <dl>\n",
       "              <dt>Version</dt>\n",
       "                <dd><code>v2.2.2</code></dd>\n",
       "              <dt>Master</dt>\n",
       "                <dd><code>local[*]</code></dd>\n",
       "              <dt>AppName</dt>\n",
       "                <dd><code>ETL-Assessment</code></dd>\n",
       "            </dl>\n",
       "        </div>\n",
       "        \n",
       "            </div>\n",
       "        "
      ],
      "text/plain": [
       "<pyspark.sql.session.SparkSession at 0x7f7a325065c0>"
      ]
     },
     "execution_count": 2,
     "metadata": {},
     "output_type": "execute_result"
    }
   ],
   "source": [
    "spark = SparkSession.builder.appName(\"ETL-Assessment\").getOrCreate()\n",
    "spark"
   ]
  },
  {
   "cell_type": "code",
   "execution_count": 3,
   "metadata": {},
   "outputs": [],
   "source": [
    "# 1. Load all the files using SparkSession. (PySpark -Dataframe)\n",
    "cust_dimen = spark.read.csv(\"/home/hduser/deloitte_24/Datasets - Project/cust_dimen.csv\", header = True, inferSchema=True)"
   ]
  },
  {
   "cell_type": "code",
   "execution_count": 4,
   "metadata": {},
   "outputs": [],
   "source": [
    "market_fact = spark.read.csv(\"/home/hduser/deloitte_24/Datasets - Project/market_fact.csv\", header = True, inferSchema=True)\n",
    "orders_dimen = spark.read.csv(\"/home/hduser/deloitte_24/Datasets - Project/orders_dimen.csv\", header = True, inferSchema=True)\n",
    "prod_dimen = spark.read.csv(\"/home/hduser/deloitte_24/Datasets - Project/prod_dimen.csv\", header = True, inferSchema=True)\n",
    "shipping_dimen = spark.read.csv(\"/home/hduser/deloitte_24/Datasets - Project/shipping_dimen.csv\", header = True, inferSchema=True)"
   ]
  },
  {
   "cell_type": "code",
   "execution_count": 5,
   "metadata": {},
   "outputs": [
    {
     "name": "stdout",
     "output_type": "stream",
     "text": [
      "root\n",
      " |-- Customer_Name: string (nullable = true)\n",
      " |-- Province: string (nullable = true)\n",
      " |-- Region: string (nullable = true)\n",
      " |-- Customer_Segment: string (nullable = true)\n",
      " |-- Cust_id: string (nullable = true)\n",
      "\n",
      "root\n",
      " |-- Ord_id: string (nullable = true)\n",
      " |-- Prod_id: string (nullable = true)\n",
      " |-- Ship_id: string (nullable = true)\n",
      " |-- Cust_id: string (nullable = true)\n",
      " |-- Sales: double (nullable = true)\n",
      " |-- Discount: double (nullable = true)\n",
      " |-- Order_Quantity: integer (nullable = true)\n",
      " |-- Profit: double (nullable = true)\n",
      " |-- Shipping_Cost: double (nullable = true)\n",
      " |-- Product_Base_Margin: string (nullable = true)\n",
      "\n",
      "root\n",
      " |-- Order_ID: integer (nullable = true)\n",
      " |-- Order_Date: string (nullable = true)\n",
      " |-- Order_Priority: string (nullable = true)\n",
      " |-- Ord_id: string (nullable = true)\n",
      "\n",
      "root\n",
      " |-- Product_Category: string (nullable = true)\n",
      " |-- Product_Sub_Category: string (nullable = true)\n",
      " |-- Prod_id: string (nullable = true)\n",
      "\n",
      "root\n",
      " |-- Order_ID: integer (nullable = true)\n",
      " |-- Ship_Mode: string (nullable = true)\n",
      " |-- Ship_Date: string (nullable = true)\n",
      " |-- Ship_id: string (nullable = true)\n",
      "\n"
     ]
    }
   ],
   "source": [
    "cust_dimen.printSchema()\n",
    "market_fact.printSchema()\n",
    "orders_dimen.printSchema()\n",
    "prod_dimen.printSchema()\n",
    "shipping_dimen.printSchema()"
   ]
  },
  {
   "cell_type": "code",
   "execution_count": 6,
   "metadata": {},
   "outputs": [],
   "source": [
    "# 2. Join all the Data frames and create a new Data frame called Full_DataFrame in such a way\n",
    "# that the new data frame does not contain duplicate columns. \n",
    "# (cust_dimen, market_fact, orders_dimen, prod_dimen, shipping_dimen)\n",
    "\n",
    "\n",
    "#Renaming the column to avoid duplicate column names\n",
    "shipping_dimen = shipping_dimen.withColumnRenamed(\"Ship_id\",\"Ship_id_shipping_dimen\")"
   ]
  },
  {
   "cell_type": "code",
   "execution_count": 7,
   "metadata": {},
   "outputs": [],
   "source": [
    "join1 = cust_dimen.join(market_fact,\"Cust_id\",\"inner\")\n",
    "join2 = join1.join(orders_dimen,\"Ord_id\",\"inner\")\n",
    "join3 = join2.join(prod_dimen,\"Prod_id\",\"inner\")\n",
    "Full_DataFrame = join3.join(shipping_dimen,\"Order_ID\",\"inner\")"
   ]
  },
  {
   "cell_type": "code",
   "execution_count": 8,
   "metadata": {},
   "outputs": [
    {
     "name": "stdout",
     "output_type": "stream",
     "text": [
      "root\n",
      " |-- Order_ID: integer (nullable = true)\n",
      " |-- Prod_id: string (nullable = true)\n",
      " |-- Ord_id: string (nullable = true)\n",
      " |-- Cust_id: string (nullable = true)\n",
      " |-- Customer_Name: string (nullable = true)\n",
      " |-- Province: string (nullable = true)\n",
      " |-- Region: string (nullable = true)\n",
      " |-- Customer_Segment: string (nullable = true)\n",
      " |-- Ship_id: string (nullable = true)\n",
      " |-- Sales: double (nullable = true)\n",
      " |-- Discount: double (nullable = true)\n",
      " |-- Order_Quantity: integer (nullable = true)\n",
      " |-- Profit: double (nullable = true)\n",
      " |-- Shipping_Cost: double (nullable = true)\n",
      " |-- Product_Base_Margin: string (nullable = true)\n",
      " |-- Order_Date: string (nullable = true)\n",
      " |-- Order_Priority: string (nullable = true)\n",
      " |-- Product_Category: string (nullable = true)\n",
      " |-- Product_Sub_Category: string (nullable = true)\n",
      " |-- Ship_Mode: string (nullable = true)\n",
      " |-- Ship_Date: string (nullable = true)\n",
      " |-- Ship_id_shipping_dimen: string (nullable = true)\n",
      "\n"
     ]
    }
   ],
   "source": [
    "Full_DataFrame.printSchema()"
   ]
  },
  {
   "cell_type": "code",
   "execution_count": 9,
   "metadata": {},
   "outputs": [
    {
     "name": "stdout",
     "output_type": "stream",
     "text": [
      "root\n",
      " |-- Order_ID: integer (nullable = true)\n",
      " |-- Prod_id: string (nullable = true)\n",
      " |-- Ord_id: string (nullable = true)\n",
      " |-- Cust_id: string (nullable = true)\n",
      " |-- Customer_Name: string (nullable = true)\n",
      " |-- Province: string (nullable = true)\n",
      " |-- Region: string (nullable = true)\n",
      " |-- Customer_Segment: string (nullable = true)\n",
      " |-- Ship_id: string (nullable = true)\n",
      " |-- Sales: double (nullable = true)\n",
      " |-- Discount: double (nullable = true)\n",
      " |-- Order_Quantity: integer (nullable = true)\n",
      " |-- Profit: double (nullable = true)\n",
      " |-- Shipping_Cost: double (nullable = true)\n",
      " |-- Product_Base_Margin: string (nullable = true)\n",
      " |-- Order_Date: string (nullable = true)\n",
      " |-- Order_Priority: string (nullable = true)\n",
      " |-- Product_Category: string (nullable = true)\n",
      " |-- Product_Sub_Category: string (nullable = true)\n",
      " |-- Ship_Mode: string (nullable = true)\n",
      " |-- Ship_Date: string (nullable = true)\n",
      " |-- Ship_id_shipping_dimen: string (nullable = true)\n",
      " |-- Order_Dates: date (nullable = true)\n",
      " |-- Ship_Dates: date (nullable = true)\n",
      "\n"
     ]
    }
   ],
   "source": [
    "#Convert the Order_Date and Ship_Date columns type into Date type. And print the schema and \n",
    "#show the top 5 records for Order_Date and Ship_Date columns\n",
    "\n",
    "from pyspark.sql.functions import *\n",
    "\n",
    "#converting datatype of Order_Date(string) to a new columnn Order_dates (date datatype)\n",
    "Full_DataFrame = Full_DataFrame.withColumn(\"Order_Dates\",to_date(Full_DataFrame.Order_Date, \"dd-MM-yyy\"))\n",
    "\n",
    "#converting datatype of Ship_Date(string) to a new columnn Ship_dates (date datatype)\n",
    "Full_DataFrame = Full_DataFrame.withColumn(\"Ship_Dates\",to_date(Full_DataFrame.Ship_Date, \"dd-MM-yyy\"))\n",
    "Full_DataFrame.printSchema()"
   ]
  },
  {
   "cell_type": "code",
   "execution_count": 10,
   "metadata": {},
   "outputs": [
    {
     "name": "stdout",
     "output_type": "stream",
     "text": [
      "+-----------+----------+\n",
      "|Order_Dates|Ship_Dates|\n",
      "+-----------+----------+\n",
      "| 2010-10-13|2010-10-20|\n",
      "| 2012-10-01|2012-10-03|\n",
      "| 2012-10-01|2012-10-02|\n",
      "| 2012-10-01|2012-10-03|\n",
      "| 2012-10-01|2012-10-02|\n",
      "+-----------+----------+\n",
      "only showing top 5 rows\n",
      "\n"
     ]
    }
   ],
   "source": [
    "#show the top 5 records for Order_Date and Ship_Date columns\n",
    "Full_DataFrame.select(\"Order_Dates\",\"Ship_Dates\").show(5)"
   ]
  },
  {
   "cell_type": "code",
   "execution_count": 11,
   "metadata": {},
   "outputs": [
    {
     "name": "stdout",
     "output_type": "stream",
     "text": [
      "+---------+-----------+\n",
      "|  Cust_id|Total_Order|\n",
      "+---------+-----------+\n",
      "|Cust_1140|         62|\n",
      "| Cust_572|         52|\n",
      "| Cust_188|         47|\n",
      "+---------+-----------+\n",
      "\n"
     ]
    }
   ],
   "source": [
    "#4.Find the top 3 customers who have the maximum number of orders.\n",
    "df_max_ord = Full_DataFrame.groupBy(\"Cust_id\").agg(count(\"Order_ID\").alias(\"Total_Order\")).orderBy(\"Total_Order\",ascending=False).limit(3)\n",
    "df_max_ord.show()                                                   "
   ]
  },
  {
   "cell_type": "code",
   "execution_count": 12,
   "metadata": {},
   "outputs": [
    {
     "name": "stdout",
     "output_type": "stream",
     "text": [
      "+--------+-------+------+-------+------------------+--------+-------+----------------+-------+--------+--------+--------------+-------+-------------+-------------------+----------+--------------+----------------+--------------------+--------------+----------+----------------------+-----------+----------+--------------------+\n",
      "|Order_ID|Prod_id|Ord_id|Cust_id|     Customer_Name|Province| Region|Customer_Segment|Ship_id|   Sales|Discount|Order_Quantity| Profit|Shipping_Cost|Product_Base_Margin|Order_Date|Order_Priority|Product_Category|Product_Sub_Category|     Ship_Mode| Ship_Date|Ship_id_shipping_dimen|Order_Dates|Ship_Dates|DaysTakenForDelivery|\n",
      "+--------+-------+------+-------+------------------+--------+-------+----------------+-------+--------+--------+--------------+-------+-------------+-------------------+----------+--------------+----------------+--------------------+--------------+----------+----------------------+-----------+----------+--------------------+\n",
      "|       3| Prod_1| Ord_1| Cust_1|MUHAMMED MACINTYRE| NUNAVUT|NUNAVUT|  SMALL BUSINESS|  SHP_1|  261.54|    0.04|             6|-213.25|         35.0|                0.8|13-10-2010|           LOW| OFFICE SUPPLIES|STORAGE & ORGANIZ...|   REGULAR AIR|20-10-2010|                 SHP_1| 2010-10-13|2010-10-20|                   7|\n",
      "|     293| Prod_2| Ord_2| Cust_2|      BARRY FRENCH| NUNAVUT|NUNAVUT|        CONSUMER|  SHP_2|10123.02|    0.07|            49| 457.81|        68.02|               0.58|01-10-2012|          HIGH| OFFICE SUPPLIES|          APPLIANCES|   REGULAR AIR|03-10-2012|                 SHP_3| 2012-10-01|2012-10-03|                   2|\n",
      "|     293| Prod_2| Ord_2| Cust_2|      BARRY FRENCH| NUNAVUT|NUNAVUT|        CONSUMER|  SHP_2|10123.02|    0.07|            49| 457.81|        68.02|               0.58|01-10-2012|          HIGH| OFFICE SUPPLIES|          APPLIANCES|DELIVERY TRUCK|02-10-2012|                 SHP_2| 2012-10-01|2012-10-02|                   1|\n",
      "|     293| Prod_3| Ord_2| Cust_2|      BARRY FRENCH| NUNAVUT|NUNAVUT|        CONSUMER|  SHP_3|  244.57|    0.01|            27|  46.71|         2.99|               0.39|01-10-2012|          HIGH| OFFICE SUPPLIES|BINDERS AND BINDE...|   REGULAR AIR|03-10-2012|                 SHP_3| 2012-10-01|2012-10-03|                   2|\n",
      "|     293| Prod_3| Ord_2| Cust_2|      BARRY FRENCH| NUNAVUT|NUNAVUT|        CONSUMER|  SHP_3|  244.57|    0.01|            27|  46.71|         2.99|               0.39|01-10-2012|          HIGH| OFFICE SUPPLIES|BINDERS AND BINDE...|DELIVERY TRUCK|02-10-2012|                 SHP_2| 2012-10-01|2012-10-02|                   1|\n",
      "+--------+-------+------+-------+------------------+--------+-------+----------------+-------+--------+--------+--------------+-------+-------------+-------------------+----------+--------------+----------------+--------------------+--------------+----------+----------------------+-----------+----------+--------------------+\n",
      "only showing top 5 rows\n",
      "\n"
     ]
    }
   ],
   "source": [
    "#5.Create a new column DaysTakenForDelivery that contains the \n",
    "#date difference between Order_Date and Ship_Date\n",
    "\n",
    "Full_DataFrame = Full_DataFrame.withColumn(\"DaysTakenForDelivery\",datediff(Full_DataFrame.Ship_Dates,Full_DataFrame.Order_Dates))\n",
    "Full_DataFrame.show(5)"
   ]
  },
  {
   "cell_type": "code",
   "execution_count": 13,
   "metadata": {},
   "outputs": [
    {
     "name": "stdout",
     "output_type": "stream",
     "text": [
      "+---------+--------------------+\n",
      "|  Cust_id|DaysTakenForDelivery|\n",
      "+---------+--------------------+\n",
      "|Cust_1460|                  92|\n",
      "+---------+--------------------+\n",
      "\n"
     ]
    }
   ],
   "source": [
    "#6.Find the customer whose order took the maximum time to get delivered\n",
    "\n",
    "max_time = Full_DataFrame.orderBy(\"DaysTakenForDelivery\",ascending=False).limit(1).select(\"Cust_id\",\"DaysTakenForDelivery\")\n",
    "max_time.show()"
   ]
  },
  {
   "cell_type": "code",
   "execution_count": 14,
   "metadata": {},
   "outputs": [
    {
     "name": "stdout",
     "output_type": "stream",
     "text": [
      "+--------+-------+--------+---------+----------------+--------+-------+----------------+--------+-------+--------+--------------+-------+-------------+-------------------+----------+--------------+----------------+--------------------+-----------+----------+----------------------+-----------+----------+--------------------+-----------+\n",
      "|Order_ID|Prod_id|  Ord_id|  Cust_id|   Customer_Name|Province| Region|Customer_Segment| Ship_id|  Sales|Discount|Order_Quantity| Profit|Shipping_Cost|Product_Base_Margin|Order_Date|Order_Priority|Product_Category|Product_Sub_Category|  Ship_Mode| Ship_Date|Ship_id_shipping_dimen|Order_Dates|Ship_Dates|DaysTakenForDelivery|Total_Sales|\n",
      "+--------+-------+--------+---------+----------------+--------+-------+----------------+--------+-------+--------+--------------+-------+-------------+-------------------+----------+--------------+----------------+--------------------+-----------+----------+----------------------+-----------+----------+--------------------+-----------+\n",
      "|   23329| Prod_4|Ord_4548|Cust_1553|    MARIS LAWARE|   YUKON|  YUKON|     HOME OFFICE|SHP_6329|31.1185|    0.05|             4|  -46.9|         5.03|                0.6|26-12-2010|           LOW|      TECHNOLOGY|TELEPHONES AND CO...|REGULAR AIR|30-12-2010|              SHP_6330| 2010-12-26|2010-12-30|                   4|     62.237|\n",
      "|   23329| Prod_4|Ord_4548|Cust_1553|    MARIS LAWARE|   YUKON|  YUKON|     HOME OFFICE|SHP_6329|31.1185|    0.05|             4|  -46.9|         5.03|                0.6|26-12-2010|           LOW|      TECHNOLOGY|TELEPHONES AND CO...|REGULAR AIR|19-01-2011|              SHP_6329| 2010-12-26|2011-01-19|                  24|     62.237|\n",
      "|   24197| Prod_4|Ord_1458| Cust_535|     DAVID SMITH| ONTARIO|ONTARIO|  SMALL BUSINESS|SHP_2015|35.6405|    0.05|             2| -110.4|         1.25|               0.83|03-02-2010|           LOW|      TECHNOLOGY|TELEPHONES AND CO...|REGULAR AIR|10-02-2010|              SHP_2015| 2010-02-03|2010-02-10|                   7|    133.518|\n",
      "|   24197| Prod_4|Ord_1458| Cust_535|     DAVID SMITH| ONTARIO|ONTARIO|  SMALL BUSINESS|SHP_2015|35.6405|    0.05|             2| -110.4|         1.25|               0.83|03-02-2010|           LOW|      TECHNOLOGY|TELEPHONES AND CO...|EXPRESS AIR|10-02-2010|              SHP_2014| 2010-02-03|2010-02-10|                   7|    133.518|\n",
      "|   59072| Prod_4|Ord_4329|Cust_1443|DIANNA VITTORINI|   YUKON|  YUKON|       CORPORATE|SHP_6036| 35.666|    0.06|             2|-112.19|          2.5|               0.81|25-05-2009| NOT SPECIFIED|      TECHNOLOGY|TELEPHONES AND CO...|REGULAR AIR|27-05-2009|              SHP_6036| 2009-05-25|2009-05-27|                   2|    240.516|\n",
      "+--------+-------+--------+---------+----------------+--------+-------+----------------+--------+-------+--------+--------------+-------+-------------+-------------------+----------+--------------+----------------+--------------------+-----------+----------+----------------------+-----------+----------+--------------------+-----------+\n",
      "only showing top 5 rows\n",
      "\n"
     ]
    }
   ],
   "source": [
    "#7. Using the windows function, retrieve total sales made by each product from the data.\n",
    "\n",
    "from pyspark.sql.window import Window\n",
    "\n",
    "window_spec = Window.partitionBy(Full_DataFrame.Prod_id).orderBy(Full_DataFrame.Sales)\n",
    "\n",
    "total_sale = Full_DataFrame.withColumn(\"Total_Sales\",sum(Full_DataFrame.Sales).over(window_spec))\n",
    "\n",
    "total_sale.show(5)"
   ]
  },
  {
   "cell_type": "code",
   "execution_count": 15,
   "metadata": {},
   "outputs": [
    {
     "name": "stdout",
     "output_type": "stream",
     "text": [
      "Unique customers in jan 1258\n",
      "root\n",
      " |-- Order_ID: integer (nullable = true)\n",
      " |-- Prod_id: string (nullable = true)\n",
      " |-- Ord_id: string (nullable = true)\n",
      " |-- Cust_id: string (nullable = true)\n",
      " |-- Customer_Name: string (nullable = true)\n",
      " |-- Province: string (nullable = true)\n",
      " |-- Region: string (nullable = true)\n",
      " |-- Customer_Segment: string (nullable = true)\n",
      " |-- Sales: double (nullable = true)\n",
      " |-- Discount: double (nullable = true)\n",
      " |-- Order_Quantity: integer (nullable = true)\n",
      " |-- Profit: double (nullable = true)\n",
      " |-- Shipping_Cost: double (nullable = true)\n",
      " |-- Product_Base_Margin: string (nullable = true)\n",
      " |-- Order_Priority: string (nullable = true)\n",
      " |-- Product_Category: string (nullable = true)\n",
      " |-- Product_Sub_Category: string (nullable = true)\n",
      " |-- Ship_Mode: string (nullable = true)\n",
      " |-- Ship_id: string (nullable = true)\n",
      " |-- Order_Date: string (nullable = true)\n",
      " |-- Order_Dates: date (nullable = true)\n",
      " |-- Ship_Date: string (nullable = true)\n",
      " |-- Ship_Dates: date (nullable = true)\n",
      " |-- DaysTakenForDelivery: integer (nullable = true)\n",
      "\n"
     ]
    }
   ],
   "source": [
    "#8. Count the total number of unique customers in January and how many of \n",
    "#them came back every month over the entire year in 2011.\n",
    "\n",
    "#customers ordered in january\n",
    "jan = Full_DataFrame.filter(month(\"Order_Dates\")==1)\n",
    "\n",
    "print(\"Unique customers in jan\",jan.distinct().count())\n",
    "\n",
    "#customers ordered in 2011\n",
    "yr2011 = Full_DataFrame.filter(year(\"Order_Dates\")==2011)\n",
    "\n",
    "#join -> to get cutsomers who have returned\n",
    "returning_cust = yr2011.join(jan,\"Cust_Id\",\"inner\")\n",
    "\n",
    "#selecting the unique columns\n",
    "unique_cols = [\"Order_ID\",\"Prod_id\",\"Ord_id\",'Cust_id','Customer_Name','Province','Region','Customer_Segment',\n",
    "               'Sales','Discount','Order_Quantity','Profit','Shipping_Cost','Product_Base_Margin','Order_Priority',\n",
    "              'Product_Category','Product_Sub_Category','Ship_Mode','Ship_id','Order_Date','Order_Dates','Ship_Date','Ship_Dates','DaysTakenForDelivery']\n",
    "\n",
    "returning_cust = Full_DataFrame.select(*unique_cols)\n",
    "returning_cust.printSchema()\n"
   ]
  },
  {
   "cell_type": "code",
   "execution_count": 16,
   "metadata": {},
   "outputs": [],
   "source": [
    "#Save the above Q:8 output as a count_month.json file.\n",
    "\n",
    "returning_cust.write.json('/home/hduser/deloitte_24/count_month.json')"
   ]
  },
  {
   "cell_type": "code",
   "execution_count": null,
   "metadata": {},
   "outputs": [],
   "source": []
  }
 ],
 "metadata": {
  "kernelspec": {
   "display_name": "Python 3 (ipykernel)",
   "language": "python",
   "name": "python3"
  },
  "language_info": {
   "codemirror_mode": {
    "name": "ipython",
    "version": 3
   },
   "file_extension": ".py",
   "mimetype": "text/x-python",
   "name": "python",
   "nbconvert_exporter": "python",
   "pygments_lexer": "ipython3",
   "version": "3.12.4"
  }
 },
 "nbformat": 4,
 "nbformat_minor": 4
}
